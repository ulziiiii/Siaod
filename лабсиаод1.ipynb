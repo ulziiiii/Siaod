{
 "cells": [
  {
   "cell_type": "markdown",
   "id": "a84419b8",
   "metadata": {},
   "source": [
    "# Лабораторная работа №1\n",
    "## Выполнил студент группы БФИ2201  Даваасурэн Улзийсурэн"
   ]
  },
  {
   "cell_type": "markdown",
   "id": "be0daded",
   "metadata": {},
   "source": [
    "### Оглавление\n",
    "1. [Задание 1](#Задание-№1)\n",
    "2. [Задание 2](#Задание-№2)\n",
    "3. [Задание 3](#Задание-№3)\n",
    "4. [Вывод](#Вывод)"
   ]
  },
  {
   "cell_type": "markdown",
   "id": "099342b9",
   "metadata": {},
   "source": [
    "### Задание №1\n",
    "<i> Вызвать функцию print() и передать туда строку Hello, World! </i>"
   ]
  },
  {
   "cell_type": "code",
   "execution_count": 16,
   "id": "f0a10fa7",
   "metadata": {},
   "outputs": [
    {
     "name": "stdout",
     "output_type": "stream",
     "text": [
      "Hello, World!\n"
     ]
    }
   ],
   "source": [
    "print(\"Hello, World!\")"
   ]
  },
  {
   "cell_type": "markdown",
   "id": "c977a494",
   "metadata": {},
   "source": [
    "### Задание №2\n",
    "Написать генератор случайных матриц(многомерных), который принимает\n",
    "опциональные параметры <b>m</b>, <b>n</b>, <b>min_limit</b>, <b>max_limit</b>, где <b>m</b> и <b>n</b> указывают размер\n",
    "матрицы, а <b>min_lim</b> и <b>max_lim</b> - минимальное и максимальное значение для\n",
    "генерируемого числа."
   ]
  },
  {
   "cell_type": "code",
   "execution_count": 7,
   "id": "41877330",
   "metadata": {},
   "outputs": [
    {
     "data": {
      "text/plain": [
       "[[625, 637, 517, 440, 923],\n",
       " [586, 151, 280, 386, 346],\n",
       " [638, 124, 425, 175, 138],\n",
       " [-10, 40, 512, 226, 167],\n",
       " [702, 603, 667, 108, 471]]"
      ]
     },
     "execution_count": 7,
     "metadata": {},
     "output_type": "execute_result"
    }
   ],
   "source": [
    "# генерация двумерного массива\n",
    "# massiin mor ba baganiin toog ogsn\n",
    "m,n=5,5\n",
    "# sanamsarguu too uusgne\n",
    "import random\n",
    "# 2 hemjeest massiig todorhoilj ogch baina\n",
    "def create_mas(m, n):\n",
    "    # iim nertei hooson jagsaltiig uusgj ogsnn end massiviin moroo hadgalna\n",
    "    arr2d=[]\n",
    "    for i in range(m):\n",
    "        irr=[]\n",
    "        for j in range(n):\n",
    "            irr.append(random.randint(-25,1003))\n",
    "        arr2d.append(irr)\n",
    "    return (arr2d)\n",
    "mas=create_mas(m, n)\n",
    "create_mas(m, n)"
   ]
  },
  {
   "cell_type": "markdown",
   "id": "5a086cfb",
   "metadata": {},
   "source": [
    "### Задание №3\n",
    "Реализовать методы сортировки строк числовой матрицы в соответствии с\n",
    "заданием. Оценить время работы каждого алгоритма сортировки и сравнить его со\n",
    "временем стандартной функции сортировки. Испытания проводить на сгенерированных\n",
    "матрицах."
   ]
  },
  {
   "cell_type": "code",
   "execution_count": 8,
   "id": "1bdf3905",
   "metadata": {},
   "outputs": [
    {
     "data": {
      "text/plain": [
       "[[-3, 259, 521, 526, 719],\n",
       " [15, 186, 290, 731, 740],\n",
       " [121, 233, 394, 472, 643],\n",
       " [199, 320, 488, 545, 898],\n",
       " [210, 551, 708, 864, 976]]"
      ]
     },
     "execution_count": 8,
     "metadata": {},
     "output_type": "execute_result"
    }
   ],
   "source": [
    "# сортировка выбором\n",
    "mas=create_mas(m, n)\n",
    "def selection_sort(mas): \n",
    "    # значение i соответствует количеству отсортированных значений       \n",
    "    for i in range(len(mas)):\n",
    "        # исходно считаем наименьшим первый элемент \n",
    "        minimum = i\n",
    "        # этот цикл перебирает несортированные элэменты  \n",
    "        for j in range(i + 1, len(mas)):\n",
    "            if mas[j] < mas[minimum]:\n",
    "                minimum = j\n",
    "        # самый маленький элемент меняем с первым в списке\n",
    "        mas[minimum], mas[i] = mas[i], mas[minimum]\n",
    "            \n",
    "    return mas\n",
    "for row in range(len(mas)):\n",
    "     selection_sort(mas[row]) \n",
    "\n",
    "selection_sort(mas)\n",
    "\n",
    "# buh toog shalgaj uzeed hamgiin baga toog hamgiin ehend tavina. ene uildlee davtaj hiine. ehleed buh toog shalgj duusaad draa ni tavina."
   ]
  },
  {
   "cell_type": "code",
   "execution_count": 9,
   "id": "51471e07",
   "metadata": {},
   "outputs": [
    {
     "data": {
      "text/plain": [
       "[[29, 397, 496, 527, 679],\n",
       " [47, 130, 311, 657, 927],\n",
       " [87, 242, 386, 508, 996],\n",
       " [155, 241, 420, 736, 752],\n",
       " [163, 348, 394, 423, 962]]"
      ]
     },
     "execution_count": 9,
     "metadata": {},
     "output_type": "execute_result"
    }
   ],
   "source": [
    "#сортировка вставкой\n",
    "mas=create_mas(m, n)\n",
    "def insertion_sort(mas):\n",
    "        \n",
    "    for i in range(len(mas)):\n",
    "        cursor = mas[i]\n",
    "        pos = i\n",
    "        \n",
    "        while pos > 0 and mas[pos - 1] > cursor:\n",
    "            # Меняем местами число, продвигая по списку\n",
    "            mas[pos] = mas[pos - 1]\n",
    "            pos = pos - 1\n",
    "        # Остановимся и сделаем последний обмен\n",
    "        mas[pos] = cursor\n",
    "\n",
    "    return mas\n",
    "for row in range(len(mas)):\n",
    "     selection_sort(mas[row]) \n",
    "insertion_sort(mas)\n",
    "#toonuudiiig ehnees ni neg negeer ni shalgaj uzeed herev omnoh toonuudaas ni baga baival uragshaa oruulaad yvna."
   ]
  },
  {
   "cell_type": "code",
   "execution_count": 10,
   "id": "28e80f0a",
   "metadata": {},
   "outputs": [
    {
     "data": {
      "text/plain": [
       "[[28, 113, 524, 908, 920],\n",
       " [74, 111, 366, 725, 817],\n",
       " [95, 191, 456, 493, 891],\n",
       " [329, 477, 482, 559, 602],\n",
       " [460, 752, 850, 869, 896]]"
      ]
     },
     "execution_count": 10,
     "metadata": {},
     "output_type": "execute_result"
    }
   ],
   "source": [
    "#сортировка обменом\n",
    "mas=create_mas(m, n)\n",
    "def bubble(mas):\n",
    "    changed = True\n",
    "    while changed:\n",
    "        changed = False\n",
    "        for i in range(len(mas) - 1):\n",
    "            if mas[i] > mas[i+1]:\n",
    "                mas[i], mas[i+1] = mas[i+1], mas[i]\n",
    "                changed = True\n",
    "    return mas\n",
    "for row in range(len(mas)):\n",
    "     bubble(mas[row]) \n",
    "bubble(mas) \n",
    "#2 2oor haritsuulaad baga toog ni uragshaa oruuulaad yvna.                    "
   ]
  },
  {
   "cell_type": "code",
   "execution_count": 11,
   "id": "4dfa6c6d",
   "metadata": {},
   "outputs": [
    {
     "data": {
      "text/plain": [
       "[[50, 223, 318, 731, 860],\n",
       " [92, 214, 508, 598, 617],\n",
       " [122, 338, 569, 768, 944],\n",
       " [420, 456, 552, 567, 854],\n",
       " [528, 696, 853, 896, 953]]"
      ]
     },
     "execution_count": 11,
     "metadata": {},
     "output_type": "execute_result"
    }
   ],
   "source": [
    "#сортировка Шелла\n",
    "mas=create_mas(m, n)\n",
    "def shell_sort(mas):\n",
    "    gap = len(mas) // 2\n",
    "\n",
    "    while gap > 0:\n",
    "        for value in range(gap, len(mas)):\n",
    "            current_value = mas[value]\n",
    "            position = value\n",
    "\n",
    "            while position >= gap and mas[position - gap] > current_value:\n",
    "                mas[position] = mas[position - gap]\n",
    "                position -= gap\n",
    "                mas[position] = current_value\n",
    "\n",
    "        gap //= 2\n",
    "    return mas\n",
    "for row in range(len(mas)):\n",
    "     shell_sort(mas[row])\n",
    "shell_sort(mas)\n",
    "#ehleed hamgiin ehnii ba goldoh too 2iig haritsuulaad ali bagiig ni urd ni oruulna,2doh too ba goliin toonii ariintoo.... draa ni \n",
    "#ehnii too baa 3doh toog haritsuulna, 2 ba 4.... suuld ni hajuu hajuugiin tootoi ni haritsuulna."
   ]
  },
  {
   "cell_type": "code",
   "execution_count": 12,
   "id": "970c7c3e",
   "metadata": {},
   "outputs": [
    {
     "data": {
      "text/plain": [
       "[[-3, 498, 707, 728, 790],\n",
       " [25, 82, 296, 422, 636],\n",
       " [74, 152, 236, 273, 552],\n",
       " [110, 182, 303, 408, 1002],\n",
       " [441, 696, 790, 922, 931]]"
      ]
     },
     "execution_count": 12,
     "metadata": {},
     "output_type": "execute_result"
    }
   ],
   "source": [
    "#быстаря сортировка\n",
    "mas=create_mas(m, n)\n",
    "def quick_sort(mas):\n",
    "    quick_sort_helper(mas, 0, len(mas) - 1)\n",
    "    return mas\n",
    "\n",
    "\n",
    "def quick_sort_helper(mas, low, high):\n",
    "    if low < high:\n",
    "        split_point = partition(mas, low, high)\n",
    "        quick_sort_helper(mas, low, split_point - 1)\n",
    "        quick_sort_helper(mas, split_point + 1, high)\n",
    "\n",
    "\n",
    "def partition(mas, low, high):\n",
    "    pivot_value = mas[low]\n",
    "    left_mark = low + 1\n",
    "    right_mark = high\n",
    "    done = False\n",
    "\n",
    "    while not done:\n",
    "        while left_mark <= right_mark and mas[left_mark] <= pivot_value:\n",
    "            left_mark += 1\n",
    "        while right_mark >= left_mark and mas[right_mark] >= pivot_value:\n",
    "            right_mark -= 1\n",
    "\n",
    "        if right_mark < left_mark:\n",
    "            done = True\n",
    "        else:\n",
    "            mas[left_mark], mas[right_mark] = mas[right_mark], mas[left_mark]\n",
    "\n",
    "    mas[low], mas[right_mark] = mas[right_mark], mas[low]\n",
    "    return right_mark\n",
    "for row in range(len(mas)):\n",
    "     quick_sort(mas[row])\n",
    "quick_sort(mas)   "
   ]
  },
  {
   "cell_type": "code",
   "execution_count": 13,
   "id": "7abc3cb1",
   "metadata": {},
   "outputs": [
    {
     "data": {
      "text/plain": [
       "[[-21, 416, 526, 628, 969],\n",
       " [31, 147, 150, 463, 941],\n",
       " [83, 86, 466, 925, 969],\n",
       " [540, 550, 736, 753, 884],\n",
       " [702, 717, 846, 860, 871]]"
      ]
     },
     "execution_count": 13,
     "metadata": {},
     "output_type": "execute_result"
    }
   ],
   "source": [
    "#спирамидальная сортировка\n",
    "mas=create_mas(m, n)\n",
    "def heap(mas, heap_size, root_index):\n",
    "    largest = root_index\n",
    "    left_child = (2 * root_index) + 1\n",
    "    right_child = (2 * root_index) + 2\n",
    "    if left_child < heap_size and mas[left_child] > mas[largest]:\n",
    "        largest = left_child\n",
    "    if right_child < heap_size and mas[right_child] > mas[largest]:\n",
    "        largest = right_child\n",
    "    if largest != root_index:\n",
    "        mas[root_index], mas[largest] = mas[largest], mas[root_index]\n",
    "        heap(mas, heap_size, largest)\n",
    "def pyr_sort(mas):\n",
    "    n = len(mas)\n",
    "    for i in range(n, -1, -1):\n",
    "        heap(mas, n, i)\n",
    "    for i in range(n - 1, 0, -1):\n",
    "        mas[i], mas[0] = mas[0], mas[i]\n",
    "        heap(mas, i, 0)\n",
    "    return mas\n",
    "for row in range(len(mas)):\n",
    "     pyr_sort(mas[row])\n",
    "pyr_sort(mas) "
   ]
  },
  {
   "cell_type": "code",
   "execution_count": 18,
   "id": "6803bc87",
   "metadata": {},
   "outputs": [
    {
     "name": "stdout",
     "output_type": "stream",
     "text": [
      "Сортировка выбором: 0.00022449999960372224 секунд\n",
      "Сортировка вставкой: 0.00028340000062598847 секунд\n",
      "Сортировка обменом: 0.0005081999988760799 секунд\n",
      "Сортировка Шелла: 0.00033679999978630804 секунд\n",
      "Быстрая сортировка: 0.0002964000013889745 секунд\n",
      "Пирамидальная сортировка: 0.00041769999916141387 секунд\n",
      "Встроенная сортировка: 0.00022329999956127722 секунд\n"
     ]
    }
   ],
   "source": [
    "#сравнение по времени алгритмов сортировки\n",
    "array=create_mas(m, n)\n",
    "import timeit\n",
    "star = timeit.default_timer()\n",
    "mas=array\n",
    "selection_sort(mas)\n",
    "endtime = timeit.default_timer()\n",
    "print(\"Сортировка выбором:\", end - start, \"секунд\")\n",
    "\n",
    "start = timeit.default_timer()\n",
    "mas=array\n",
    "insertion_sort(mas)\n",
    "end = timeit.default_timer()\n",
    "print(\"Сортировка вставкой:\", end - start, \"секунд\")\n",
    "start = timeit.default_timer()\n",
    "mas=array\n",
    "bubble(mas)\n",
    "end = timeit.default_timer()\n",
    "print(\"Сортировка обменом:\", end - start, \"секунд\")\n",
    "\n",
    "start = timeit.default_timer()\n",
    "mas=array\n",
    "shell_sort(mas)\n",
    "end = timeit.default_timer()\n",
    "print(\"Сортировка Шелла:\", end - start, \"секунд\")\n",
    "\n",
    "start = timeit.default_timer()\n",
    "mas=array\n",
    "quick_sort(mas)\n",
    "end = timeit.default_timer()\n",
    "print(\"Быстрая сортировка:\", end - start, \"секунд\")\n",
    "\n",
    "start = timeit.default_timer()\n",
    "mas=array\n",
    "pyr_sort(mas) \n",
    "end = timeit.default_timer()\n",
    "print(\"Пирамидальная сортировка:\", end - start, \"секунд\")\n",
    "\n",
    "start = timeit.default_timer()\n",
    "for row in range(len(mas)):\n",
    "    mas[row].sort()\n",
    "    end = timeit.default_timer()\n",
    "print(\"Встроенная сортировка:\", end - start, \"секунд\")"
   ]
  },
  {
   "cell_type": "code",
   "execution_count": 15,
   "id": "99c9d333-9e7e-4480-ba06-ea97312d5fdf",
   "metadata": {},
   "outputs": [
    {
     "name": "stdout",
     "output_type": "stream",
     "text": [
      "[355, 445, 786, 828, 935]\n",
      "[184, 342, 490, 521, 943]\n",
      "[78, 143, 469, 565, 745]\n",
      "[86, 288, 303, 765, 932]\n",
      "[-12, -10, 226, 620, 776]\n"
     ]
    }
   ],
   "source": [
    "#сортировка выбором\n",
    "mas=create_mas(m, n)\n",
    "for row in range(len(mas)):\n",
    "    mas[row].sort()\n",
    "    print(mas[row])"
   ]
  },
  {
   "cell_type": "markdown",
   "id": "8000239e",
   "metadata": {},
   "source": [
    "ВЫВОД"
   ]
  },
  {
   "cell_type": "code",
   "execution_count": 19,
   "id": "1cc6d261",
   "metadata": {},
   "outputs": [
    {
     "name": "stdout",
     "output_type": "stream",
     "text": [
      "В этой лабораторной работе мы изучили сортировка разными способами и самая быстрая сортировка у нас получилсь встроенная сортировка.\n"
     ]
    }
   ],
   "source": [
    "print(\"В этой лабораторной работе мы изучили сортировка разными способами и самая быстрая сортировка у нас получилсь встроенная сортировка.\")"
   ]
  },
  {
   "cell_type": "code",
   "execution_count": null,
   "id": "328db8a8-5991-4125-9116-1d09137755de",
   "metadata": {},
   "outputs": [],
   "source": []
  }
 ],
 "metadata": {
  "kernelspec": {
   "display_name": "Python 3 (ipykernel)",
   "language": "python",
   "name": "python3"
  },
  "language_info": {
   "codemirror_mode": {
    "name": "ipython",
    "version": 3
   },
   "file_extension": ".py",
   "mimetype": "text/x-python",
   "name": "python",
   "nbconvert_exporter": "python",
   "pygments_lexer": "ipython3",
   "version": "3.12.2"
  }
 },
 "nbformat": 4,
 "nbformat_minor": 5
}

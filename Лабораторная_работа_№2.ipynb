{
 "cells": [
  {
   "cell_type": "markdown",
   "id": "614cbe96-08b4-460a-b4f4-83e96ab254ab",
   "metadata": {},
   "source": [
    "# Лабораторная работа №2\n",
    "# Выполнила студентка группа БФИ2201 Даваасурэн Улзийсурэн\n",
    "\n"
   ]
  },
  {
   "cell_type": "code",
   "execution_count": null,
   "id": "188aebcc",
   "metadata": {},
   "outputs": [],
   "source": []
  },
  {
   "cell_type": "markdown",
   "id": "eb407807-95dc-431e-99f3-7e73bc1cda5b",
   "metadata": {},
   "source": [
    "Реализовать следующие структуры данных:\n",
    "  \n",
    "● <b> Стек (stack): </b>  \n",
    "Операции для стека:\n",
    "<i> инициализация, проверка на пустоту, добавление нового элемента в начало, извлечение элемента из начала;  </i>  \n",
    "  \n",
    "● <b> Дек (двусторонняя очередь, deque):  </b>  \n",
    "Операции для дека:\n",
    "<i> инициализация, проверка на пустоту, добавление нового элемента в начало, добавление нового элемента в конец, извлечение элемента из начала, извлечение элемента из конца. </i>  \n",
    "  \n",
    "<i> Разработать программу обработки данных, содержащихся в заранее подготовленном txt-файле, в соответствии с заданиями, применив указанную в задании структуру данных. Результат работы программы вывести на экран и сохранить в отдельном txt-файле. </i>А\n",
    "\n"
   ]
  },
  {
   "cell_type": "code",
   "execution_count": 8,
   "id": "bde10a18",
   "metadata": {},
   "outputs": [],
   "source": [
    "class LinkedNode:\n",
    "    def __init__(self, value=None):\n",
    "        self.value = value\n",
    "        self.right = None\n",
    "        self.left = None\n",
    "#Стек\n",
    "class Stack:\n",
    "    def __init__(self):    #инициализация\n",
    "        self.head = LinkedNode()\n",
    "        self.size = 0\n",
    "\n",
    "    def is_empty(self):    #is_empty - определить, пусто ли оно\n",
    "        return self.size == 0\n",
    "\n",
    "    def push(self, value):   #push - добавляет элемент в верхнюю часть стека\n",
    "        if self.size > 0:\n",
    "            node = LinkedNode(value)\n",
    "            node.right = self.head\n",
    "            self.head = node\n",
    "        else:\n",
    "            self.head.value = value\n",
    "        self.size += 1\n",
    "      \n",
    "    def pop(self):           #pop - удаляет элемент в верхней части стека\n",
    "        if self.is_empty():\n",
    "            return println(\"Стек пуст\")\n",
    "        remove = self.head\n",
    "        if self.size > 1:\n",
    "            self.head = remove.right\n",
    "        self.size -= 1\n",
    "        return remove.value\n",
    "    \n",
    "    def peek(self):        #peek - возвращается к верхнему элементу стека\n",
    "        if self.is_empty():\n",
    "            return println(\"Стек пуст\")\n",
    "        return self.head.value\n",
    "    \n",
    "    def __len__(self):     #возвращает количество элементов в стеке\n",
    "        return self.size\n",
    "\n",
    "    def reverse(self):    #реверс\n",
    "        current = self.head\n",
    "        prev = None\n",
    "        next = None\n",
    " \n",
    "        while current is not None:\n",
    "            next = current.right\n",
    "            current.right = prev\n",
    "            prev = current\n",
    "            current = next\n",
    "\n",
    "        self.head = prev\n",
    "#Дек     \n",
    "class Deque:\n",
    "    def __init__(self):         #инициализация\n",
    "        self.head = LinkedNode()\n",
    "        self.tail = self.head\n",
    "        self.size = 0\n",
    "    \n",
    "    def is_empty(self):         #is_empty - определить, пусто ли оно\n",
    "        return self.size == 0\n",
    "\n",
    "    def push_left(self, value): #добавляет к началу двухсторонней очереди  \n",
    "        if self.size > 0:\n",
    "            node = LinkedNode(value)\n",
    "            node.right = self.tail\n",
    "            self.tail.left = node\n",
    "            self.tail = node\n",
    "        else:\n",
    "            self.tail.value = value\n",
    "        self.size += 1\n",
    "\n",
    "    def push(self, value):     #добавляет к концу двухсторонней очереди \n",
    "        if self.size > 0:\n",
    "            node = LinkedNode(value)\n",
    "            node.left = self.head\n",
    "            self.head.right = node\n",
    "            self.head = node\n",
    "        else:\n",
    "            self.head.value = value\n",
    "        self.size += 1\n",
    "    \n",
    "    def pop_left(self):  #удаляет и возвращает элемент с левой стороны двусторонней очереди\n",
    "        if self.is_empty():\n",
    "            return println(\"Стек пуст\")\n",
    "        remove = self.tail\n",
    "        if self.size > 1:\n",
    "            self.tail = remove.right\n",
    "        self.size -= 1\n",
    "        return remove.value\n",
    "    \n",
    "    def pop(self):       #удаляет и возвращает элемент с правой стороны двусторонней очереди\n",
    "        if self.is_empty():\n",
    "            return println(\"Стек пуст\")\n",
    "        remove = self.head\n",
    "        if self.size > 1:\n",
    "            self.head = remove.left\n",
    "        self.size -= 1\n",
    "        return remove.value\n",
    "    \n",
    "    def peek(self):      #возвращает элемент конца, не удаляя его\n",
    "        if self.is_empty():\n",
    "            return println(\"Стек пуст\")\n",
    "        return self.head.value\n",
    "    \n",
    "    def peek_left(self):  #возвращает элемент начала, не удаляя его\n",
    "        if self.is_empty():\n",
    "            return println(\"Стек пуст\")\n",
    "        return self.tail.value\n",
    "\n",
    "    def __len__(self):    #возвращает количество элементов в двухсторонней очереди\n",
    "        return self.size"
   ]
  },
  {
   "cell_type": "markdown",
   "id": "56d3806b",
   "metadata": {},
   "source": [
    "\n",
    "\n"
   ]
  },
  {
   "cell_type": "markdown",
   "id": "afd9a46d",
   "metadata": {},
   "source": [
    "## Задание №1\n",
    "Отсортировать строки файла, содержащие названия книг, в алфавитном порядке с использованием двух деков."
   ]
  },
  {
   "cell_type": "code",
   "execution_count": 9,
   "id": "bda3bfc3",
   "metadata": {},
   "outputs": [
    {
     "name": "stdout",
     "output_type": "stream",
     "text": [
      "Catcher in the Rye\n",
      "\n",
      "Harry Potter and the Philosopher's Stone\n",
      "\n",
      "Hobbit\n",
      "Kill a Mockingbird\n",
      "\n",
      "Pride and Prejudice\n",
      "\n",
      "The Chronicles of Narnia\n",
      "\n",
      "The Great Gatsby\n",
      "\n",
      "The Lord of the Rings\n",
      "\n",
      "To Kill a Mockingbird\n",
      "\n"
     ]
    }
   ],
   "source": [
    "with open('BooksList.txt','r') as books:\n",
    "    books=open('BooksList.txt','r',encoding=\"utf8\")\n",
    "    q1 = Deque()\n",
    "    q2 = Deque()\n",
    "    for book in books:\n",
    "        q1.push(book)\n",
    "    while not q1.is_empty():\n",
    "        x = q1.pop()\n",
    "        while not q2.is_empty() and q2.peek() > x:\n",
    "            q1.push_left(q2.pop())\n",
    "        q2.push(x)\n",
    "    while not q2.is_empty():\n",
    "        print(q2.pop_left())"
   ]
  },
  {
   "cell_type": "markdown",
   "id": "d5049d1e",
   "metadata": {},
   "source": [
    "## Задание №2\n",
    "Дек содержит последовательность символов для шифровки сообщений. Дан текстовый файл, содержащий зашифрованное сообщение. Пользуясь деком, расшифровать текст. Известно, что при шифровке каждый символ сообщения заменялся следующим за ним в деке по часовой стрелке через один."
   ]
  },
  {
   "cell_type": "code",
   "execution_count": 10,
   "id": "5e137378",
   "metadata": {},
   "outputs": [],
   "source": [
    "alphabet = list('abcdefghijklmnopqrstuvwxyz')\n",
    "key = Deque()\n",
    "for letter in alphabet:\n",
    "    key.push(letter)\n",
    "\n",
    "#кодировка\n",
    "def encode(c):\n",
    "    for i in range(len(key)):\n",
    "        x = key.pop_left()\n",
    "        if x == c:\n",
    "            key.push(x)\n",
    "            val = key.pop_left()\n",
    "            key.push(val)\n",
    "            return val\n",
    "        key.push(x)\n",
    "#декодировка\n",
    "def decode(c):\n",
    "    for i in range(len(key)):\n",
    "        x = key.pop()\n",
    "        if x == c:\n",
    "            key.push_left(x)\n",
    "            val = key.pop()\n",
    "            key.push_left(val)\n",
    "            return val\n",
    "        key.push_left(x)"
   ]
  },
  {
   "cell_type": "code",
   "execution_count": 11,
   "id": "f58f4bcf",
   "metadata": {},
   "outputs": [
    {
     "name": "stdout",
     "output_type": "stream",
     "text": [
      "cpokpvs fmpohp\n",
      "bonjour elongo\n"
     ]
    }
   ],
   "source": [
    "text = 'bonjour elongo'.lower()\n",
    "\n",
    "encoded = ''\n",
    "for letter in text:\n",
    "    if encoded_letter := encode(letter):\n",
    "        encoded += encoded_letter\n",
    "    else:\n",
    "        encoded += letter\n",
    "\n",
    "print(encoded)\n",
    "\n",
    "decoded = ''\n",
    "for letter in encoded:\n",
    "    if decoded_letter := decode(letter):\n",
    "        decoded += decoded_letter\n",
    "    else:\n",
    "        decoded += letter\n",
    "print(decoded)"
   ]
  },
  {
   "cell_type": "markdown",
   "id": "efcf5272",
   "metadata": {},
   "source": [
    "## Задание №3\n",
    "Даны три стержня и n дисков различного размера. Диски можно надевать на стержни, образуя из них башни. Перенести n дисков со стержня А на стержень С, сохранив их первоначальный порядок. При переносе дисков необходимо соблюдать следующие правила:\n",
    "\n",
    "на каждом шаге со стержня на стержень переносить только один диск;\n",
    "диск нельзя помещать на диск меньшего размера;\n",
    "для промежуточного хранения можно использовать стержень В. Реализовать алгоритм, используя три стека вместо стержней А, В, С. Информация о дисках хранится в исходном файле."
   ]
  },
  {
   "cell_type": "code",
   "execution_count": 14,
   "id": "dbe5f635",
   "metadata": {},
   "outputs": [
    {
     "name": "stdout",
     "output_type": "stream",
     "text": [
      "1\n",
      "2\n",
      "3\n",
      "4\n",
      "5\n",
      "6\n"
     ]
    }
   ],
   "source": [
    "A = Stack()\n",
    "B = Stack()\n",
    "C = Stack()\n",
    "\n",
    "disks = 6\n",
    "\n",
    "for i in range(disks, 0, -1):\n",
    "    A.push(i)\n",
    "\n",
    "def move(a, b):\n",
    "    if len(a) == 0 and len(b) > 0:\n",
    "        a.push(b.pop())\n",
    "    elif len(a) > 0 and len(b) == 0:\n",
    "        b.push(a.pop())\n",
    "    elif a.peek() > b.peek():\n",
    "        a.push(b.pop())\n",
    "    else:\n",
    "        b.push(a.pop())\n",
    "\n",
    "if disks % 2 == 0:\n",
    "    while len(C) != disks:\n",
    "        move(A, B)\n",
    "        move(A, C)\n",
    "        move(B, C)\n",
    "else:\n",
    "    while len(C) != disks:\n",
    "        move(A, C)\n",
    "        move(A, B)\n",
    "        move(B, C)\n",
    "\n",
    "while not C.is_empty():\n",
    "    print(C.pop())"
   ]
  },
  {
   "cell_type": "markdown",
   "id": "55c69ea6",
   "metadata": {},
   "source": [
    "## Задание №4\n",
    "Дан текстовый файл с программой на алгоритмическом языке. За один просмотр файла проверить баланс круглых скобок в тексте, используя стек."
   ]
  },
  {
   "cell_type": "code",
   "execution_count": 27,
   "id": "bc2328af",
   "metadata": {},
   "outputs": [
    {
     "name": "stdout",
     "output_type": "stream",
     "text": [
      "True\n",
      "False\n"
     ]
    }
   ],
   "source": [
    "def check_brackets(string):\n",
    "    bracket_stack = Stack()\n",
    "    for i in string:\n",
    "        if i == '(':\n",
    "            bracket_stack.push(i)\n",
    "        elif i == ')':\n",
    "            if bracket_stack.is_empty():\n",
    "                return False\n",
    "            bracket_stack.pop()\n",
    "    return bracket_stack.is_empty()\n",
    "\n",
    "print(check_brackets('((()))((()))'))\n",
    "print(check_brackets('(()()()()())((()'))"
   ]
  },
  {
   "cell_type": "markdown",
   "id": "4e17059c",
   "metadata": {},
   "source": [
    "## Задание №5\n",
    "Дан текстовый файл с программой на алгоритмическом языке. За один просмотр файла проверить баланс квадратных скобок в тексте, используя дек."
   ]
  },
  {
   "cell_type": "code",
   "execution_count": 17,
   "id": "e5eb28eb",
   "metadata": {},
   "outputs": [
    {
     "name": "stdout",
     "output_type": "stream",
     "text": [
      "True\n",
      "False\n"
     ]
    }
   ],
   "source": [
    "def check_square_brackets(string):\n",
    "    bracket_stack = Deque()\n",
    "    for i in string:\n",
    "        if i == '[':\n",
    "            bracket_stack.push(i)\n",
    "        elif i == ']':\n",
    "            if bracket_stack.is_empty():\n",
    "                return False\n",
    "            bracket_stack.pop()\n",
    "    return bracket_stack.is_empty()\n",
    "print(check_square_brackets('[[[]]][][[]]'))\n",
    "print(check_square_brackets('[[]]]]][[]]'))"
   ]
  },
  {
   "cell_type": "markdown",
   "id": "d631bc76",
   "metadata": {},
   "source": [
    "## Задание №6\n",
    "Дан файл из символов. Используя стек, за один просмотр файла напечатать сначала все цифры, затем все буквы, и, наконец, все остальные символы, сохраняя исходный порядок в каждой группе символов."
   ]
  },
  {
   "cell_type": "code",
   "execution_count": 15,
   "id": "3f2d7736",
   "metadata": {},
   "outputs": [
    {
     "name": "stdout",
     "output_type": "stream",
     "text": [
      "13721Ulziisurenhuurhun()!@@#%$^%\n"
     ]
    }
   ],
   "source": [
    "text = '13721(Ulziisuren)!@@#%$^%huurhun'\n",
    "letters = Stack()\n",
    "digits = Stack()\n",
    "others = Stack()\n",
    "for c in text:\n",
    "    if c.isalpha():\n",
    "        letters.push(c)\n",
    "    elif c.isdigit():\n",
    "        digits.push(c)\n",
    "    else:\n",
    "        others.push(c)\n",
    "new_text = ''\n",
    "letters.reverse()\n",
    "digits.reverse()\n",
    "others.reverse()\n",
    "while not digits.is_empty():\n",
    "    new_text += digits.pop()\n",
    "while not letters.is_empty():\n",
    "    new_text += letters.pop()\n",
    "while not others.is_empty():\n",
    "    new_text += others.pop()\n",
    "print(new_text)"
   ]
  },
  {
   "cell_type": "markdown",
   "id": "1010c491",
   "metadata": {},
   "source": [
    "## Задание №7\n",
    "Дан файл из целых чисел. Используя дек, за один просмотр файла напечатать сначала все отрицательные числа, затем все положительные числа, сохраняя исходный порядок в каждой группе."
   ]
  },
  {
   "cell_type": "code",
   "execution_count": 20,
   "id": "7fe6914d",
   "metadata": {},
   "outputs": [
    {
     "name": "stdout",
     "output_type": "stream",
     "text": [
      "[13, 4, -2, 8, 12, 6, 0, 11, 3, 10, 7, 6, 11, 5, 3]\n",
      "-2\n",
      "13\n",
      "4\n",
      "8\n",
      "12\n",
      "6\n",
      "0\n",
      "11\n",
      "3\n",
      "10\n",
      "7\n",
      "6\n",
      "11\n",
      "5\n",
      "3\n"
     ]
    }
   ],
   "source": [
    "import random\n",
    "numbers = [random.randint(-2, 13) for i in range(15)]\n",
    "print(numbers)\n",
    "deque = Deque()\n",
    "for n in numbers:\n",
    "    if n < 0:\n",
    "        deque.push_left(n)\n",
    "    else:\n",
    "        deque.push(n)\n",
    "while not deque.is_empty():\n",
    "    x = deque.pop_left()\n",
    "    if x < 0:\n",
    "        deque.push(x)\n",
    "    else:\n",
    "        deque.push_left(x)\n",
    "        break\n",
    "while not deque.is_empty():\n",
    "    x = deque.pop()\n",
    "    if x < 0:\n",
    "        print(x)\n",
    "    else:\n",
    "        deque.push(x)\n",
    "        break\n",
    "while not deque.is_empty():\n",
    "    print(deque.pop_left())"
   ]
  },
  {
   "cell_type": "markdown",
   "id": "d65bb411",
   "metadata": {},
   "source": [
    "## Задание №8\n",
    "Дан текстовый файл. Используя стек, сформировать новый текстовый файл, содержащий строки исходного файла, записанные в обратном порядке: первая строка становится последней, вторая – предпоследней и т.д."
   ]
  },
  {
   "cell_type": "code",
   "execution_count": 21,
   "id": "377c4bb2",
   "metadata": {},
   "outputs": [
    {
     "name": "stdout",
     "output_type": "stream",
     "text": [
      "To Kill a Mockingbird\n",
      "Pride and Prejudice\n",
      "The Great Gatsby\n",
      "Harry Potter and the Philosopher's Stone\n",
      "The Lord of the Rings\n",
      "Kill a Mockingbird\n",
      "Catcher in the Rye\n",
      "The Chronicles of Narnia\n",
      "Hobbit\n",
      "\n",
      "Hobbit\n",
      "The Chronicles of Narnia\n",
      "Catcher in the Rye\n",
      "Kill a Mockingbird\n",
      "The Lord of the Rings\n",
      "Harry Potter and the Philosopher's Stone\n",
      "The Great Gatsby\n",
      "Pride and Prejudice\n",
      "To Kill a Mockingbird\n"
     ]
    }
   ],
   "source": [
    "with open('BooksList.txt', 'r') as books:\n",
    "    books=open('BooksList.txt','r', encoding='utf8')\n",
    "    stack = Stack()\n",
    "    for book in books:\n",
    "        book = book.strip()\n",
    "        print(book)\n",
    "        stack.push(book)\n",
    "    print()\n",
    "    while not stack.is_empty():\n",
    "        print(stack.pop())"
   ]
  },
  {
   "cell_type": "code",
   "execution_count": null,
   "id": "f27b23a2",
   "metadata": {},
   "outputs": [],
   "source": []
  }
 ],
 "metadata": {
  "kernelspec": {
   "display_name": "Python 3 (ipykernel)",
   "language": "python",
   "name": "python3"
  },
  "language_info": {
   "codemirror_mode": {
    "name": "ipython",
    "version": 3
   },
   "file_extension": ".py",
   "mimetype": "text/x-python",
   "name": "python",
   "nbconvert_exporter": "python",
   "pygments_lexer": "ipython3",
   "version": "3.12.2"
  }
 },
 "nbformat": 4,
 "nbformat_minor": 5
}
